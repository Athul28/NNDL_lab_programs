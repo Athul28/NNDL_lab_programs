{
 "cells": [
  {
   "cell_type": "markdown",
   "id": "8434b9c9-5730-484b-883c-e49651c1d751",
   "metadata": {},
   "source": [
    "# Cat or dog prediction with early stopping and data augmentation"
   ]
  },
  {
   "cell_type": "code",
   "execution_count": 4,
   "id": "0fe64f79-7981-468b-ad6b-72097aa46333",
   "metadata": {},
   "outputs": [],
   "source": [
    "from tensorflow.keras.preprocessing.image import ImageDataGenerator,load_img,img_to_array"
   ]
  },
  {
   "cell_type": "code",
   "execution_count": 10,
   "id": "ffbb1256-5b58-40a4-ac60-7ec3c96e8b55",
   "metadata": {},
   "outputs": [
    {
     "name": "stdout",
     "output_type": "stream",
     "text": [
      "Found 8038 images belonging to 2 classes.\n",
      "Found 2000 images belonging to 2 classes.\n"
     ]
    }
   ],
   "source": [
    "train_datagen=ImageDataGenerator(\n",
    "    rescale=1./255,\n",
    "    zoom_range=0.2,\n",
    "    shear_range=0.2,\n",
    "    horizontal_flip=True\n",
    ")\n",
    "validation_datagen=ImageDataGenerator(rescale=1./255)\n",
    "\n",
    "training_data=train_datagen.flow_from_directory(r\"C:\\Users\\Admin\\Desktop\\College\\nndl-programs\\archive1\\training_set\\training_set\",\n",
    "                                                     target_size=(128,128),\n",
    "                                                     batch_size=32,\n",
    "                                                     class_mode='binary')\n",
    "validation_data=validation_datagen.flow_from_directory(r\"C:\\Users\\Admin\\Desktop\\College\\nndl-programs\\archive1\\test_set\\test_set\",\n",
    "                                                       target_size=(128,128),\n",
    "                                                       batch_size=32,\n",
    "                                                       class_mode='binary')"
   ]
  },
  {
   "cell_type": "code",
   "execution_count": 11,
   "id": "eb759977-538f-4bc2-9bd8-c4f4fd06f399",
   "metadata": {},
   "outputs": [],
   "source": [
    "import tensorflow as tf\n",
    "from keras.models import Sequential\n",
    "from keras.layers import Dense,Conv2D,MaxPooling2D,Flatten\n",
    "import keras"
   ]
  },
  {
   "cell_type": "code",
   "execution_count": 14,
   "id": "6e2b6496-ab1b-4e1e-a1fe-e4eab27a83c6",
   "metadata": {},
   "outputs": [
    {
     "name": "stdout",
     "output_type": "stream",
     "text": [
      "Model: \"sequential_2\"\n",
      "_________________________________________________________________\n",
      " Layer (type)                Output Shape              Param #   \n",
      "=================================================================\n",
      " conv2d_8 (Conv2D)           (None, 126, 126, 32)      896       \n",
      "                                                                 \n",
      " max_pooling2d_8 (MaxPooling  (None, 63, 63, 32)       0         \n",
      " 2D)                                                             \n",
      "                                                                 \n",
      " conv2d_9 (Conv2D)           (None, 61, 61, 64)        18496     \n",
      "                                                                 \n",
      " max_pooling2d_9 (MaxPooling  (None, 30, 30, 64)       0         \n",
      " 2D)                                                             \n",
      "                                                                 \n",
      " conv2d_10 (Conv2D)          (None, 28, 28, 96)        55392     \n",
      "                                                                 \n",
      " max_pooling2d_10 (MaxPoolin  (None, 14, 14, 96)       0         \n",
      " g2D)                                                            \n",
      "                                                                 \n",
      " conv2d_11 (Conv2D)          (None, 12, 12, 128)       110720    \n",
      "                                                                 \n",
      " max_pooling2d_11 (MaxPoolin  (None, 6, 6, 128)        0         \n",
      " g2D)                                                            \n",
      "                                                                 \n",
      " flatten_2 (Flatten)         (None, 4608)              0         \n",
      "                                                                 \n",
      " dense_6 (Dense)             (None, 128)               589952    \n",
      "                                                                 \n",
      " dense_7 (Dense)             (None, 64)                8256      \n",
      "                                                                 \n",
      " dense_8 (Dense)             (None, 1)                 65        \n",
      "                                                                 \n",
      "=================================================================\n",
      "Total params: 783,777\n",
      "Trainable params: 783,777\n",
      "Non-trainable params: 0\n",
      "_________________________________________________________________\n"
     ]
    }
   ],
   "source": [
    "model=Sequential([\n",
    "    Conv2D(32,(3,3),padding='valid',input_shape=(128,128,3),activation='relu'),\n",
    "    MaxPooling2D((2,2),strides=2,padding='valid'),\n",
    "    Conv2D(64,(3,3),padding='valid',activation='relu'),\n",
    "    MaxPooling2D((2,2),strides=2,padding='valid'),\n",
    "    Conv2D(96,(3,3),padding='valid',activation='relu'),\n",
    "    MaxPooling2D((2,2),strides=2,padding='valid'),\n",
    "    Conv2D(128,(3,3),padding='valid',activation='relu'),\n",
    "    MaxPooling2D((2,2),strides=2,padding='valid'),\n",
    "    Flatten(),\n",
    "    Dense(128,activation='relu'),\n",
    "    Dense(64,activation='relu'),\n",
    "    Dense(1,activation='sigmoid')\n",
    "])\n",
    "\n",
    "model.summary()"
   ]
  },
  {
   "cell_type": "code",
   "execution_count": 15,
   "id": "164d70a0-5030-4846-8d91-b005a8a5daf1",
   "metadata": {},
   "outputs": [
    {
     "name": "stdout",
     "output_type": "stream",
     "text": [
      "Epoch 1/10\n",
      "252/252 [==============================] - 61s 230ms/step - loss: 0.6936 - accuracy: 0.5044 - val_loss: 0.6932 - val_accuracy: 0.5000\n",
      "Epoch 2/10\n",
      "252/252 [==============================] - 33s 130ms/step - loss: 0.6898 - accuracy: 0.5244 - val_loss: 0.6803 - val_accuracy: 0.5910\n",
      "Epoch 3/10\n",
      "252/252 [==============================] - 33s 131ms/step - loss: 0.6470 - accuracy: 0.6255 - val_loss: 0.6136 - val_accuracy: 0.6745\n",
      "Epoch 4/10\n",
      "252/252 [==============================] - 34s 135ms/step - loss: 0.5745 - accuracy: 0.6999 - val_loss: 0.5322 - val_accuracy: 0.7380\n",
      "Epoch 5/10\n",
      "252/252 [==============================] - 34s 135ms/step - loss: 0.5344 - accuracy: 0.7309 - val_loss: 0.4828 - val_accuracy: 0.7710\n",
      "Epoch 6/10\n",
      "252/252 [==============================] - 33s 130ms/step - loss: 0.4768 - accuracy: 0.7753 - val_loss: 0.4559 - val_accuracy: 0.7915\n",
      "Epoch 7/10\n",
      "252/252 [==============================] - 33s 132ms/step - loss: 0.4490 - accuracy: 0.7885 - val_loss: 0.4872 - val_accuracy: 0.7680\n",
      "Epoch 8/10\n",
      "252/252 [==============================] - 32s 129ms/step - loss: 0.4133 - accuracy: 0.8119 - val_loss: 0.4354 - val_accuracy: 0.7850\n",
      "Epoch 9/10\n",
      "252/252 [==============================] - 32s 129ms/step - loss: 0.3905 - accuracy: 0.8231 - val_loss: 0.4116 - val_accuracy: 0.8045\n",
      "Epoch 10/10\n",
      "252/252 [==============================] - 33s 129ms/step - loss: 0.3839 - accuracy: 0.8281 - val_loss: 0.4270 - val_accuracy: 0.8135\n"
     ]
    }
   ],
   "source": [
    "from tensorflow.keras.callbacks import EarlyStopping\n",
    "model.compile(optimizer='adam',loss='binary_crossentropy',metrics=['accuracy'])\n",
    "early_stopping=EarlyStopping(monitor='val_loss',patience=10,restore_best_weights=True)\n",
    "history=model.fit(x=training_data,validation_data=validation_data,epochs=10,callbacks=[early_stopping])"
   ]
  },
  {
   "cell_type": "code",
   "execution_count": 18,
   "id": "0b2e15ff-38e0-4802-87ac-b28f6a2ca1ee",
   "metadata": {},
   "outputs": [
    {
     "name": "stdout",
     "output_type": "stream",
     "text": [
      "1/1 [==============================] - 0s 447ms/step\n"
     ]
    }
   ],
   "source": [
    "import numpy as np\n",
    "from tensorflow.keras.preprocessing.image import load_img,img_to_array\n",
    "image_path=r\"C:\\Users\\Admin\\Downloads\\images (2).jpeg\"\n",
    "image=load_img(image_path,target_size=(128,128))\n",
    "image_arr=img_to_array(image)\n",
    "img=np.expand_dims(image_arr,axis=0)\n",
    "result=model.predict(img)"
   ]
  },
  {
   "cell_type": "code",
   "execution_count": 19,
   "id": "7470bd26-72a2-4eac-b552-1eb7c0cb223d",
   "metadata": {},
   "outputs": [
    {
     "name": "stdout",
     "output_type": "stream",
     "text": [
      "Cat\n"
     ]
    }
   ],
   "source": [
    "if result[0][0]>0.5:\n",
    "    print(\"Dog\")\n",
    "else:\n",
    "    print(\"Cat\")"
   ]
  },
  {
   "cell_type": "code",
   "execution_count": 21,
   "id": "322fe863-3ccc-4cd9-b7de-5a89a700ff0a",
   "metadata": {},
   "outputs": [
    {
     "data": {
      "image/jpeg": "[encoded data removed]",
      "image/png": "[encoded data removed]",
      "text/plain": [
       "<PIL.Image.Image image mode=RGB size=128x128>"
      ]
     },
     "execution_count": 21,
     "metadata": {},
     "output_type": "execute_result"
    }
   ],
   "source": [
    "image"
   ]
  },
  {
   "cell_type": "code",
   "execution_count": null,
   "id": "e80466c3-cbab-4374-87f5-2ca4cc33c356",
   "metadata": {},
   "outputs": [],
   "source": []
  },
  {
   "cell_type": "code",
   "execution_count": null,
   "id": "5ba8291b-7665-4ddc-9210-3d02ab5a9a13",
   "metadata": {},
   "outputs": [],
   "source": []
  }
 ],
 "metadata": {
  "kernelspec": {
   "display_name": "Python 3 (ipykernel)",
   "language": "python",
   "name": "python3"
  },
  "language_info": {
   "codemirror_mode": {
    "name": "ipython",
    "version": 3
   },
   "file_extension": ".py",
   "mimetype": "text/x-python",
   "name": "python",
   "nbconvert_exporter": "python",
   "pygments_lexer": "ipython3",
   "version": "3.9.19"
  }
 },
 "nbformat": 4,
 "nbformat_minor": 5
}
