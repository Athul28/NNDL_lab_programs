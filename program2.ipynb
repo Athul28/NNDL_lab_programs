{
 "cells": [
  {
   "cell_type": "markdown",
   "id": "e96ff08c-ece7-498f-85d2-5773c378841c",
   "metadata": {},
   "source": [
    "# Activation Functions"
   ]
  },
  {
   "cell_type": "code",
   "execution_count": 2,
   "id": "da34cb7d-349a-445a-8092-23172eee4df9",
   "metadata": {},
   "outputs": [],
   "source": [
    "import tensorflow as tf\n",
    "import numpy as np\n",
    "from keras.datasets import mnist\n",
    "from tensorflow import keras\n",
    "from keras.layers import Dense\n",
    "from keras.models import Sequential"
   ]
  },
  {
   "cell_type": "code",
   "execution_count": 3,
   "id": "63a306ee-8b29-4145-8436-b52d65031053",
   "metadata": {},
   "outputs": [],
   "source": [
    "#loading the data\n",
    "(x_train,y_train),(x_test,y_test)=mnist.load_data()"
   ]
  },
  {
   "cell_type": "code",
   "execution_count": 4,
   "id": "d6526af8-2122-4c51-9cbe-1f168b1c3e3f",
   "metadata": {},
   "outputs": [],
   "source": [
    "#reshaping the dataset\n",
    "x_train=x_train.reshape(x_train.shape[0],28*28).astype('float32')/255\n",
    "x_test=x_test.reshape(x_test.shape[0],28*28).astype('float32')/255"
   ]
  },
  {
   "cell_type": "code",
   "execution_count": 5,
   "id": "ea06e1e7-ecb7-4c7c-81a8-42b1565e8e96",
   "metadata": {},
   "outputs": [],
   "source": [
    "y_train=keras.utils.to_categorical(y_train,10)\n",
    "y_test=keras.utils.to_categorical(y_test,10)"
   ]
  },
  {
   "cell_type": "code",
   "execution_count": 6,
   "id": "49599bc3-678f-454d-a67f-664ec0314d72",
   "metadata": {},
   "outputs": [],
   "source": [
    "#Activation function formulas\n",
    "#This part is not needed for the program but can be asked\n",
    "\n",
    "def sigmoid(x):\n",
    "    return 1/(1+np.exp(-x))\n",
    "\n",
    "def tanh(x):\n",
    "    return np.tanh(x)\n",
    "\n",
    "def relu(x):\n",
    "    return np.maximum(0,x)\n",
    "\n",
    "def leaky_relu(x,alpha=0.01):\n",
    "    return np.maximum(alpha*x,x)\n",
    "\n",
    "def softmax(x):\n",
    "    exp_x = np.exp(x)\n",
    "    return exp_x/np.sum(exp_x, axis=1, keepdims=True)"
   ]
  },
  {
   "cell_type": "code",
   "execution_count": 7,
   "id": "a3f42c6b-f3d2-4134-8d4c-536a54fb4b49",
   "metadata": {},
   "outputs": [],
   "source": [
    "def create_model(activation_function):\n",
    "    model=Sequential([\n",
    "        Dense(128,input_shape=(28*28,),activation=activation_function), #don't forget comma , after 28*28\n",
    "        Dense(10,activation='softmax')\n",
    "    ])\n",
    "\n",
    "    model.compile(optimizer='adam',loss='categorical_crossentropy', metrics=['accuracy'])\n",
    "\n",
    "    model.fit(x_train,y_train,epochs=5,batch_size=32)\n",
    "\n",
    "    test_loss,test_accuracy=model.evaluate(x_test,y_test)\n",
    "\n",
    "    print(\"Test Loss : \",test_loss)\n",
    "    print(\"Test Accuracy : \",test_accuracy)"
   ]
  },
  {
   "cell_type": "code",
   "execution_count": 8,
   "id": "543ae3ec-4d35-4b28-a481-8cb8baf4b937",
   "metadata": {},
   "outputs": [
    {
     "name": "stdout",
     "output_type": "stream",
     "text": [
      "Epoch 1/5\n",
      "1875/1875 [==============================] - 6s 3ms/step - loss: 0.4000 - accuracy: 0.8953\n",
      "Epoch 2/5\n",
      "1875/1875 [==============================] - 5s 3ms/step - loss: 0.1949 - accuracy: 0.9438\n",
      "Epoch 3/5\n",
      "1875/1875 [==============================] - 5s 3ms/step - loss: 0.1419 - accuracy: 0.9588\n",
      "Epoch 4/5\n",
      "1875/1875 [==============================] - 5s 3ms/step - loss: 0.1103 - accuracy: 0.9679\n",
      "Epoch 5/5\n",
      "1875/1875 [==============================] - 5s 3ms/step - loss: 0.0884 - accuracy: 0.9749\n",
      "313/313 [==============================] - 1s 3ms/step - loss: 0.0971 - accuracy: 0.9707\n",
      "Test Loss :  0.09708727151155472\n",
      "Test Accuracy :  0.9707000255584717\n"
     ]
    }
   ],
   "source": [
    "#using Sigmoid\n",
    "create_model('sigmoid')"
   ]
  },
  {
   "cell_type": "code",
   "execution_count": 9,
   "id": "76b4fb73-5472-4268-b4db-ccb4ebba791e",
   "metadata": {},
   "outputs": [
    {
     "name": "stdout",
     "output_type": "stream",
     "text": [
      "Epoch 1/5\n",
      "1875/1875 [==============================] - 5s 3ms/step - loss: 0.2855 - accuracy: 0.9175\n",
      "Epoch 2/5\n",
      "1875/1875 [==============================] - 5s 3ms/step - loss: 0.1369 - accuracy: 0.9605\n",
      "Epoch 3/5\n",
      "1875/1875 [==============================] - 5s 3ms/step - loss: 0.0924 - accuracy: 0.9733\n",
      "Epoch 4/5\n",
      "1875/1875 [==============================] - 5s 3ms/step - loss: 0.0684 - accuracy: 0.9802\n",
      "Epoch 5/5\n",
      "1875/1875 [==============================] - 5s 3ms/step - loss: 0.0519 - accuracy: 0.9845\n",
      "313/313 [==============================] - 1s 3ms/step - loss: 0.0782 - accuracy: 0.9751\n",
      "Test Loss :  0.07817080616950989\n",
      "Test Accuracy :  0.9750999808311462\n"
     ]
    }
   ],
   "source": [
    "#using Tanh\n",
    "create_model('tanh')"
   ]
  },
  {
   "cell_type": "code",
   "execution_count": 10,
   "id": "50633b5e-f7f6-4c51-9016-208161d3622b",
   "metadata": {},
   "outputs": [
    {
     "name": "stdout",
     "output_type": "stream",
     "text": [
      "Epoch 1/5\n",
      "1875/1875 [==============================] - 5s 3ms/step - loss: 0.2808 - accuracy: 0.9206\n",
      "Epoch 2/5\n",
      "1875/1875 [==============================] - 5s 3ms/step - loss: 0.1404 - accuracy: 0.9592\n",
      "Epoch 3/5\n",
      "1875/1875 [==============================] - 5s 3ms/step - loss: 0.1006 - accuracy: 0.9700\n",
      "Epoch 4/5\n",
      "1875/1875 [==============================] - 5s 3ms/step - loss: 0.0786 - accuracy: 0.9761\n",
      "Epoch 5/5\n",
      "1875/1875 [==============================] - 5s 3ms/step - loss: 0.0633 - accuracy: 0.9801\n",
      "313/313 [==============================] - 1s 2ms/step - loss: 0.0918 - accuracy: 0.9720\n",
      "Test Loss :  0.09180436283349991\n",
      "Test Accuracy :  0.972000002861023\n"
     ]
    }
   ],
   "source": [
    "#using leaky_relu\n",
    "create_model('leaky_relu')"
   ]
  },
  {
   "cell_type": "code",
   "execution_count": 11,
   "id": "c0ef34a0-09bd-4789-b288-e87b5f0a41fd",
   "metadata": {},
   "outputs": [
    {
     "name": "stdout",
     "output_type": "stream",
     "text": [
      "Epoch 1/5\n",
      "1875/1875 [==============================] - 5s 3ms/step - loss: 0.2577 - accuracy: 0.9255\n",
      "Epoch 2/5\n",
      "1875/1875 [==============================] - 5s 3ms/step - loss: 0.1110 - accuracy: 0.9675\n",
      "Epoch 3/5\n",
      "1875/1875 [==============================] - 5s 3ms/step - loss: 0.0776 - accuracy: 0.9767\n",
      "Epoch 4/5\n",
      "1875/1875 [==============================] - 5s 3ms/step - loss: 0.0590 - accuracy: 0.9818\n",
      "Epoch 5/5\n",
      "1875/1875 [==============================] - 5s 3ms/step - loss: 0.0457 - accuracy: 0.9854\n",
      "313/313 [==============================] - 1s 3ms/step - loss: 0.0838 - accuracy: 0.9742\n",
      "Test Loss :  0.08378474414348602\n",
      "Test Accuracy :  0.9742000102996826\n"
     ]
    }
   ],
   "source": [
    "#using relu\n",
    "create_model('relu')"
   ]
  },
  {
   "cell_type": "code",
   "execution_count": 12,
   "id": "e2b98ffe-eecc-40b7-ad48-62c2dcf48e7b",
   "metadata": {},
   "outputs": [
    {
     "name": "stdout",
     "output_type": "stream",
     "text": [
      "Epoch 1/5\n",
      "1875/1875 [==============================] - 6s 3ms/step - loss: 1.2555 - accuracy: 0.7596\n",
      "Epoch 2/5\n",
      "1875/1875 [==============================] - 6s 3ms/step - loss: 0.6185 - accuracy: 0.8052\n",
      "Epoch 3/5\n",
      "1875/1875 [==============================] - 6s 3ms/step - loss: 0.4723 - accuracy: 0.8542\n",
      "Epoch 4/5\n",
      "1875/1875 [==============================] - 6s 3ms/step - loss: 0.3848 - accuracy: 0.8969\n",
      "Epoch 5/5\n",
      "1875/1875 [==============================] - 6s 3ms/step - loss: 0.3308 - accuracy: 0.9143\n",
      "313/313 [==============================] - 1s 2ms/step - loss: 0.3183 - accuracy: 0.9165\n",
      "Test Loss :  0.3183240592479706\n",
      "Test Accuracy :  0.9164999723434448\n"
     ]
    }
   ],
   "source": [
    "#using softmax\n",
    "create_model('softmax')"
   ]
  },
  {
   "cell_type": "code",
   "execution_count": null,
   "id": "4ac033b6-e2ca-44a2-9b6a-1755cd1f97d3",
   "metadata": {},
   "outputs": [],
   "source": []
  }
 ],
 "metadata": {
  "kernelspec": {
   "display_name": "Python 3 (ipykernel)",
   "language": "python",
   "name": "python3"
  },
  "language_info": {
   "codemirror_mode": {
    "name": "ipython",
    "version": 3
   },
   "file_extension": ".py",
   "mimetype": "text/x-python",
   "name": "python",
   "nbconvert_exporter": "python",
   "pygments_lexer": "ipython3",
   "version": "3.9.19"
  }
 },
 "nbformat": 4,
 "nbformat_minor": 5
}
