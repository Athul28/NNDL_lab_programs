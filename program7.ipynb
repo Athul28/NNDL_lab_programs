{
 "cells": [
  {
   "cell_type": "markdown",
   "id": "3a6f8418-c56e-499b-aa41-e70cd11da08f",
   "metadata": {},
   "source": [
    "# CNN on mnist (with and without maxpooling)\n",
    "## (didn't add the digits printing code)"
   ]
  },
  {
   "cell_type": "code",
   "execution_count": 1,
   "id": "7e529540-2100-416f-9d3b-d1d7877d52fc",
   "metadata": {},
   "outputs": [],
   "source": [
    "from keras.datasets import mnist"
   ]
  },
  {
   "cell_type": "code",
   "execution_count": 2,
   "id": "07a6334f-ed63-4f64-8d49-333a7bf7a3b4",
   "metadata": {},
   "outputs": [],
   "source": [
    "(x_train,y_train),(x_test,y_test)=mnist.load_data()"
   ]
  },
  {
   "cell_type": "code",
   "execution_count": 3,
   "id": "a5179e32-1071-412f-90a4-f92bf019aaac",
   "metadata": {},
   "outputs": [],
   "source": [
    "x_train=x_train/255\n",
    "x_test=x_test/255"
   ]
  },
  {
   "cell_type": "code",
   "execution_count": 4,
   "id": "afb0d879-f1a7-4226-86e4-ccb4cfe678bc",
   "metadata": {},
   "outputs": [
    {
     "data": {
      "text/plain": [
       "(60000, 28, 28, 1)"
      ]
     },
     "execution_count": 4,
     "metadata": {},
     "output_type": "execute_result"
    }
   ],
   "source": [
    "x_train=x_train.reshape((x_train.shape+(1,)))\n",
    "y_train=y_train.reshape((y_train.shape+(1,)))\n",
    "x_train.shape"
   ]
  },
  {
   "cell_type": "code",
   "execution_count": 5,
   "id": "442004d8-45cd-460a-befa-9a1dbaff7061",
   "metadata": {},
   "outputs": [],
   "source": [
    "from keras.models import Sequential\n",
    "from keras.layers import Dense,Conv2D,Flatten"
   ]
  },
  {
   "cell_type": "markdown",
   "id": "339c3ecf-df2f-4aef-88f6-786c1c5576d7",
   "metadata": {},
   "source": [
    "## Without Maxpooling"
   ]
  },
  {
   "cell_type": "code",
   "execution_count": 6,
   "id": "10be2d4a-a326-4cc6-bc88-27459bbc372e",
   "metadata": {},
   "outputs": [
    {
     "name": "stdout",
     "output_type": "stream",
     "text": [
      "Model: \"sequential\"\n",
      "_________________________________________________________________\n",
      " Layer (type)                Output Shape              Param #   \n",
      "=================================================================\n",
      " conv2d (Conv2D)             (None, 13, 13, 64)        640       \n",
      "                                                                 \n",
      " conv2d_1 (Conv2D)           (None, 6, 6, 64)          36928     \n",
      "                                                                 \n",
      " flatten (Flatten)           (None, 2304)              0         \n",
      "                                                                 \n",
      " dense (Dense)               (None, 128)               295040    \n",
      "                                                                 \n",
      " dense_1 (Dense)             (None, 10)                1290      \n",
      "                                                                 \n",
      "=================================================================\n",
      "Total params: 333,898\n",
      "Trainable params: 333,898\n",
      "Non-trainable params: 0\n",
      "_________________________________________________________________\n"
     ]
    }
   ],
   "source": [
    "#without maxpooling\n",
    "model=Sequential([\n",
    "    Conv2D(64,input_shape=(28,28,1),activation='relu',kernel_size=(3,3),strides=(2,2)),\n",
    "    Conv2D(64,activation='relu',kernel_size=(3,3),strides=(2,2)),\n",
    "    Flatten(),\n",
    "    Dense(128,activation='relu'),\n",
    "    Dense(10,activation='sigmoid')\n",
    "])\n",
    "model.summary()"
   ]
  },
  {
   "cell_type": "code",
   "execution_count": 7,
   "id": "10ed3f3e-f85d-42df-97cf-cfe816c09815",
   "metadata": {},
   "outputs": [
    {
     "name": "stdout",
     "output_type": "stream",
     "text": [
      "Epoch 1/20\n",
      "1875/1875 [==============================] - 20s 6ms/step - loss: 0.2377 - accuracy: 0.9275\n",
      "Epoch 2/20\n",
      "1875/1875 [==============================] - 10s 5ms/step - loss: 0.0728 - accuracy: 0.9770\n",
      "Epoch 3/20\n",
      "1875/1875 [==============================] - 10s 5ms/step - loss: 0.0488 - accuracy: 0.9847\n",
      "Epoch 4/20\n",
      "1875/1875 [==============================] - 9s 5ms/step - loss: 0.0341 - accuracy: 0.9890\n",
      "Epoch 5/20\n",
      "1875/1875 [==============================] - 11s 6ms/step - loss: 0.0254 - accuracy: 0.9919\n",
      "Epoch 6/20\n",
      "1875/1875 [==============================] - 10s 5ms/step - loss: 0.0197 - accuracy: 0.9934\n",
      "Epoch 7/20\n",
      "1875/1875 [==============================] - 10s 5ms/step - loss: 0.0159 - accuracy: 0.9947\n",
      "Epoch 8/20\n",
      "1875/1875 [==============================] - 10s 5ms/step - loss: 0.0125 - accuracy: 0.9960\n",
      "Epoch 9/20\n",
      "1875/1875 [==============================] - 9s 5ms/step - loss: 0.0091 - accuracy: 0.9969\n",
      "Epoch 10/20\n",
      "1875/1875 [==============================] - 9s 5ms/step - loss: 0.0075 - accuracy: 0.9974\n",
      "Epoch 11/20\n",
      "1875/1875 [==============================] - 10s 6ms/step - loss: 0.0056 - accuracy: 0.9983\n",
      "Epoch 12/20\n",
      "1875/1875 [==============================] - 10s 5ms/step - loss: 0.0034 - accuracy: 0.9991\n",
      "Epoch 13/20\n",
      "1875/1875 [==============================] - 10s 5ms/step - loss: 0.0029 - accuracy: 0.9991\n",
      "Epoch 14/20\n",
      "1875/1875 [==============================] - 10s 6ms/step - loss: 0.0025 - accuracy: 0.9991\n",
      "Epoch 15/20\n",
      "1875/1875 [==============================] - 11s 6ms/step - loss: 0.0021 - accuracy: 0.9994\n",
      "Epoch 16/20\n",
      "1875/1875 [==============================] - 9s 5ms/step - loss: 6.3688e-04 - accuracy: 0.9999\n",
      "Epoch 17/20\n",
      "1875/1875 [==============================] - 11s 6ms/step - loss: 1.9918e-04 - accuracy: 1.0000\n",
      "Epoch 18/20\n",
      "1875/1875 [==============================] - 9s 5ms/step - loss: 1.4780e-04 - accuracy: 1.0000\n",
      "Epoch 19/20\n",
      "1875/1875 [==============================] - 9s 5ms/step - loss: 9.3301e-05 - accuracy: 1.0000\n",
      "Epoch 20/20\n",
      "1875/1875 [==============================] - 11s 6ms/step - loss: 7.3838e-05 - accuracy: 1.0000\n"
     ]
    }
   ],
   "source": [
    "from keras.optimizers import SGD\n",
    "optimizer=SGD(learning_rate=0.01,momentum=0.9)\n",
    "model.compile(optimizer=optimizer,loss='sparse_categorical_crossentropy',metrics=['accuracy'])\n",
    "history=model.fit(x_train,y_train,epochs=20,batch_size=32)"
   ]
  },
  {
   "cell_type": "markdown",
   "id": "94099fc6-2e81-42ba-9310-3b130ca8a83c",
   "metadata": {},
   "source": [
    "## Using MaxPooing"
   ]
  },
  {
   "cell_type": "code",
   "execution_count": 8,
   "id": "0ef1c90b-fd20-4b14-a8fe-5b5a22886fdf",
   "metadata": {},
   "outputs": [],
   "source": [
    "from keras.layers import MaxPooling2D"
   ]
  },
  {
   "cell_type": "code",
   "execution_count": 9,
   "id": "48747489-16b2-48b6-b9c1-078949764719",
   "metadata": {},
   "outputs": [
    {
     "name": "stdout",
     "output_type": "stream",
     "text": [
      "Model: \"sequential_1\"\n",
      "_________________________________________________________________\n",
      " Layer (type)                Output Shape              Param #   \n",
      "=================================================================\n",
      " conv2d_2 (Conv2D)           (None, 13, 13, 64)        640       \n",
      "                                                                 \n",
      " max_pooling2d (MaxPooling2D  (None, 6, 6, 64)         0         \n",
      " )                                                               \n",
      "                                                                 \n",
      " conv2d_3 (Conv2D)           (None, 2, 2, 64)          36928     \n",
      "                                                                 \n",
      " max_pooling2d_1 (MaxPooling  (None, 1, 1, 64)         0         \n",
      " 2D)                                                             \n",
      "                                                                 \n",
      " flatten_1 (Flatten)         (None, 64)                0         \n",
      "                                                                 \n",
      " dense_2 (Dense)             (None, 128)               8320      \n",
      "                                                                 \n",
      " dense_3 (Dense)             (None, 10)                1290      \n",
      "                                                                 \n",
      "=================================================================\n",
      "Total params: 47,178\n",
      "Trainable params: 47,178\n",
      "Non-trainable params: 0\n",
      "_________________________________________________________________\n"
     ]
    }
   ],
   "source": [
    "model2=Sequential([\n",
    "    Conv2D(64,input_shape=(28,28,1),activation='relu',kernel_size=(3,3),strides=(2,2)),\n",
    "    MaxPooling2D(2,2),\n",
    "    Conv2D(64,activation='relu',kernel_size=(3,3),strides=(2,2)),\n",
    "    MaxPooling2D(2,2),\n",
    "    Flatten(),\n",
    "    Dense(128,activation='relu'),\n",
    "    Dense(10,activation='softmax')\n",
    "])\n",
    "model2.summary()"
   ]
  },
  {
   "cell_type": "code",
   "execution_count": 10,
   "id": "b80d7e61-1d59-4695-9aaa-63854e1af9d0",
   "metadata": {},
   "outputs": [
    {
     "name": "stdout",
     "output_type": "stream",
     "text": [
      "Epoch 1/20\n",
      "1500/1500 [==============================] - 94s 62ms/step - loss: 0.4997 - accuracy: 0.8440 - val_loss: 0.1661 - val_accuracy: 0.9506\n",
      "Epoch 2/20\n",
      "1500/1500 [==============================] - 11s 7ms/step - loss: 0.1414 - accuracy: 0.9564 - val_loss: 0.1431 - val_accuracy: 0.9563\n",
      "Epoch 3/20\n",
      "1500/1500 [==============================] - 11s 7ms/step - loss: 0.1051 - accuracy: 0.9676 - val_loss: 0.1082 - val_accuracy: 0.9674\n",
      "Epoch 4/20\n",
      "1500/1500 [==============================] - 10s 6ms/step - loss: 0.0827 - accuracy: 0.9740 - val_loss: 0.0971 - val_accuracy: 0.9722\n",
      "Epoch 5/20\n",
      "1500/1500 [==============================] - 9s 6ms/step - loss: 0.0671 - accuracy: 0.9785 - val_loss: 0.0904 - val_accuracy: 0.9730\n",
      "Epoch 6/20\n",
      "1500/1500 [==============================] - 9s 6ms/step - loss: 0.0571 - accuracy: 0.9819 - val_loss: 0.0979 - val_accuracy: 0.9712\n",
      "Epoch 7/20\n",
      "1500/1500 [==============================] - 10s 6ms/step - loss: 0.0487 - accuracy: 0.9838 - val_loss: 0.0788 - val_accuracy: 0.9768\n",
      "Epoch 8/20\n",
      "1500/1500 [==============================] - 9s 6ms/step - loss: 0.0432 - accuracy: 0.9859 - val_loss: 0.0872 - val_accuracy: 0.9760\n",
      "Epoch 9/20\n",
      "1500/1500 [==============================] - 11s 7ms/step - loss: 0.0361 - accuracy: 0.9881 - val_loss: 0.0863 - val_accuracy: 0.9753\n",
      "Epoch 10/20\n",
      "1500/1500 [==============================] - 9s 6ms/step - loss: 0.0330 - accuracy: 0.9895 - val_loss: 0.0956 - val_accuracy: 0.9742\n",
      "Epoch 11/20\n",
      "1500/1500 [==============================] - 10s 6ms/step - loss: 0.0296 - accuracy: 0.9901 - val_loss: 0.0800 - val_accuracy: 0.9788\n",
      "Epoch 12/20\n",
      "1500/1500 [==============================] - 11s 7ms/step - loss: 0.0256 - accuracy: 0.9915 - val_loss: 0.1021 - val_accuracy: 0.9738\n",
      "Epoch 13/20\n",
      "1500/1500 [==============================] - 9s 6ms/step - loss: 0.0233 - accuracy: 0.9922 - val_loss: 0.0870 - val_accuracy: 0.9770\n",
      "Epoch 14/20\n",
      "1500/1500 [==============================] - 10s 6ms/step - loss: 0.0178 - accuracy: 0.9940 - val_loss: 0.0869 - val_accuracy: 0.9797\n",
      "Epoch 15/20\n",
      "1500/1500 [==============================] - 11s 7ms/step - loss: 0.0169 - accuracy: 0.9944 - val_loss: 0.0903 - val_accuracy: 0.9779\n",
      "Epoch 16/20\n",
      "1500/1500 [==============================] - 9s 6ms/step - loss: 0.0152 - accuracy: 0.9948 - val_loss: 0.0824 - val_accuracy: 0.9810\n",
      "Epoch 17/20\n",
      "1500/1500 [==============================] - 9s 6ms/step - loss: 0.0129 - accuracy: 0.9958 - val_loss: 0.0914 - val_accuracy: 0.9787\n",
      "Epoch 18/20\n",
      "1500/1500 [==============================] - 9s 6ms/step - loss: 0.0093 - accuracy: 0.9970 - val_loss: 0.0930 - val_accuracy: 0.9791\n",
      "Epoch 19/20\n",
      "1500/1500 [==============================] - 9s 6ms/step - loss: 0.0074 - accuracy: 0.9977 - val_loss: 0.0907 - val_accuracy: 0.9802\n",
      "Epoch 20/20\n",
      "1500/1500 [==============================] - 9s 6ms/step - loss: 0.0052 - accuracy: 0.9987 - val_loss: 0.1050 - val_accuracy: 0.9779\n"
     ]
    }
   ],
   "source": [
    "optimizer=SGD(learning_rate=0.01,momentum=0.9)\n",
    "model2.compile(optimizer=optimizer,loss='sparse_categorical_crossentropy',metrics=['accuracy'])\n",
    "history2=model2.fit(x_train,y_train,epochs=20,batch_size=32,validation_split=0.2)"
   ]
  },
  {
   "cell_type": "code",
   "execution_count": 11,
   "id": "ed9c5b2a-aa7a-43f9-a12e-8d632b1504bd",
   "metadata": {},
   "outputs": [
    {
     "name": "stdout",
     "output_type": "stream",
     "text": [
      "313/313 [==============================] - 1s 4ms/step\n",
      "Accuracy without maxpooling :  0.8759\n",
      "313/313 [==============================] - 1s 4ms/step\n",
      "Accuracy with maxpooling :  0.9766\n"
     ]
    }
   ],
   "source": [
    "import numpy as np\n",
    "from sklearn.metrics import accuracy_score\n",
    "predictions=np.argmax(model.predict(x_test),axis=-1)\n",
    "print(\"Accuracy without maxpooling : \",accuracy_score(predictions,y_test))\n",
    "\n",
    "predictions1=np.argmax(model2.predict(x_test),axis=-1)\n",
    "print(\"Accuracy with maxpooling : \",accuracy_score(predictions1,y_test))"
   ]
  },
  {
   "cell_type": "code",
   "execution_count": null,
   "id": "fc35cdcc-a539-4dd0-bffc-a7dae96fe32c",
   "metadata": {},
   "outputs": [],
   "source": []
  },
  {
   "cell_type": "code",
   "execution_count": null,
   "id": "eb7834fd-5e6e-4ac8-894e-45b9a5d8a26e",
   "metadata": {},
   "outputs": [],
   "source": []
  }
 ],
 "metadata": {
  "kernelspec": {
   "display_name": "Python 3 (ipykernel)",
   "language": "python",
   "name": "python3"
  },
  "language_info": {
   "codemirror_mode": {
    "name": "ipython",
    "version": 3
   },
   "file_extension": ".py",
   "mimetype": "text/x-python",
   "name": "python",
   "nbconvert_exporter": "python",
   "pygments_lexer": "ipython3",
   "version": "3.9.19"
  }
 },
 "nbformat": 4,
 "nbformat_minor": 5
}
