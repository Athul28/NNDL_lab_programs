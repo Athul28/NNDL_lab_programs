{
 "cells": [
  {
   "cell_type": "markdown",
   "id": "5dab5c76-8904-4ca7-a959-aa0e1eb8dd30",
   "metadata": {},
   "source": [
    "# Backpropagation"
   ]
  },
  {
   "cell_type": "code",
   "execution_count": 16,
   "id": "77c533b5-6c67-4b0f-b177-70ab8236fcfa",
   "metadata": {},
   "outputs": [],
   "source": [
    "import numpy as np\n",
    "\n",
    "x = np.array(([2,9],[1,5],[3,6]),dtype=float)\n",
    "y = np.array(([92],[86],[89]),dtype=float)\n",
    "\n",
    "x=x/np.amax(x,axis=0)\n",
    "y=y/100"
   ]
  },
  {
   "cell_type": "code",
   "execution_count": 17,
   "id": "4c645195-0ebd-4994-b672-95fc08e55976",
   "metadata": {},
   "outputs": [],
   "source": [
    "def sigmoid(x):\n",
    "    return 1/(1+np.exp(-x))\n",
    "\n",
    "def derivative_sigmoid(x):\n",
    "    return x*(1-x)"
   ]
  },
  {
   "cell_type": "code",
   "execution_count": 18,
   "id": "2c4a8b3b-7e67-42e2-9846-693da4f30569",
   "metadata": {},
   "outputs": [],
   "source": [
    "epochs=100\n",
    "lr=0.01 #learning rate\n",
    "il_neurons=2 #input layer neurons\n",
    "hl_neurons=3 #hidden layer neurons\n",
    "ol_neurons=1 #output layer neurons\n",
    "\n",
    "#weight of hidden\n",
    "wh=np.random.uniform(size=(il_neurons,hl_neurons))\n",
    "\n",
    "#bias of hidden\n",
    "bh=np.random.uniform(size=(1,hl_neurons))\n",
    "\n",
    "#weight of output layer\n",
    "wout=np.random.uniform(size=(hl_neurons,ol_neurons))\n",
    "\n",
    "#bias of output layer\n",
    "bout=np.random.uniform(size=(1,ol_neurons))"
   ]
  },
  {
   "cell_type": "code",
   "execution_count": 19,
   "id": "155e16c0-3eb9-4e4d-b47f-cd0ef4f34a94",
   "metadata": {},
   "outputs": [
    {
     "name": "stdout",
     "output_type": "stream",
     "text": [
      "Input:  [[0.66666667 1.        ]\n",
      " [0.33333333 0.55555556]\n",
      " [1.         0.66666667]]\n",
      "Actual Output:  [[0.92]\n",
      " [0.86]\n",
      " [0.89]]\n",
      "Predicted Output:  [[0.87190986]\n",
      " [0.85921204]\n",
      " [0.87109402]]\n"
     ]
    }
   ],
   "source": [
    "for i in range(epochs):\n",
    "    #Forward propagation\n",
    "    hinp1=np.dot(x,wh)\n",
    "    hinp=bh+hinp1\n",
    "    hlayer_act=sigmoid(hinp)\n",
    "\n",
    "    out1=np.dot(hlayer_act,wout)\n",
    "    out=bout+out1\n",
    "    out=sigmoid(out)\n",
    "\n",
    "    #Backpropagation\n",
    "    #Error at OL\n",
    "    EO=y-out\n",
    "    outgrad=derivatives_sigmoid(out)\n",
    "    d_output=EO*outgrad\n",
    "\n",
    "    # Error at HL\n",
    "    EH = d_output.dot(wout.T)\n",
    "    hiddengrad = derivative_sigmoid(hlayer_act)\n",
    "    d_hiddenlayer = EH * hiddengrad\n",
    "\n",
    "    wout += hlayer_act.T.dot(d_output) * lr\n",
    "    wh += x.T.dot(d_hiddenlayer) * lr\n",
    "\n",
    "print(\"Input: \", x)\n",
    "print(\"Actual Output: \", y)\n",
    "print(\"Predicted Output: \", out)"
   ]
  },
  {
   "cell_type": "code",
   "execution_count": null,
   "id": "a7a595ce-c079-4633-a09e-1c8bf69eb817",
   "metadata": {},
   "outputs": [],
   "source": []
  }
 ],
 "metadata": {
  "kernelspec": {
   "display_name": "Python 3 (ipykernel)",
   "language": "python",
   "name": "python3"
  },
  "language_info": {
   "codemirror_mode": {
    "name": "ipython",
    "version": 3
   },
   "file_extension": ".py",
   "mimetype": "text/x-python",
   "name": "python",
   "nbconvert_exporter": "python",
   "pygments_lexer": "ipython3",
   "version": "3.9.19"
  }
 },
 "nbformat": 4,
 "nbformat_minor": 5
}
